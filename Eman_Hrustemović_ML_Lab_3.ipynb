{
 "cells": [
  {
   "cell_type": "markdown",
   "metadata": {
    "id": "SYWHVbP_3R_c"
   },
   "source": [
    "# [Lab 3] Linear Algebra Review"
   ]
  },
  {
   "cell_type": "markdown",
   "metadata": {
    "id": "6Pdc8p8i6zub"
   },
   "source": [
    "### 1. Introduction\n",
    "At its core, linear algebra provides the mathematical framework essential for understanding and manipulating data, making it a fundamental pillar of machine learning theory and practice.\n",
    "\n",
    "---\n",
    "\n",
    "**Goal** of this lab, we will embark on a comprehensive review of linear algebra, focusing particularly on matrices, their properties, operations, and basic manipulations, to be well prepared for the regression.\n",
    "\n",
    "---\n",
    "\n",
    "Yet again, please *make a copy* of this notebook and name it appropriately. After you finish solving the tasks, be advised to submit your notebook solutions (.ipynb) to the LMS."
   ]
  },
  {
   "cell_type": "markdown",
   "metadata": {
    "id": "eV9478X2-DYL"
   },
   "source": [
    "### 2. Matrices\n",
    "When working with matrices in Python, we use nested lists, where each list inside represents a row in the matrix. For example, matrix defined like this, in particular, contains 2 rows and 3 columns.\n",
    "```\n",
    "A = [\n",
    "    [2, 3, 4],\n",
    "    [5, 6, 7]\n",
    "]\n",
    "```"
   ]
  },
  {
   "cell_type": "code",
   "execution_count": null,
   "metadata": {
    "colab": {
     "base_uri": "https://localhost:8080/"
    },
    "id": "8jfNbRZBaXtj",
    "outputId": "2b135e04-a597-4eb8-b7ca-13b07018d0a5"
   },
   "outputs": [
    {
     "name": "stdout",
     "output_type": "stream",
     "text": [
      "[[2, 3, 4], [5, 6, 7], [8, 9, 41]]\n"
     ]
    }
   ],
   "source": [
    "print(A)"
   ]
  },
  {
   "cell_type": "markdown",
   "metadata": {
    "id": "39MlD2vIaYGu"
   },
   "source": [
    "Your task for this lab is to, again, provide your solutions and implement the methods below. Some of the helper methods have been written and explained, to make the whole matrix coding experience a bit simpler and faster. Good luck :)"
   ]
  },
  {
   "cell_type": "markdown",
   "metadata": {
    "id": "GNDaQ1RUdO3R"
   },
   "source": [
    "\n",
    "> -  Matrix size\n",
    "\n",
    "\n",
    "\n",
    "> This method is pretty self explanatory. It is checking the size of the list. If list contains elements and if they are of the right type, number of rows and columns for a provided list A is returned.\n"
   ]
  },
  {
   "cell_type": "code",
   "execution_count": null,
   "metadata": {
    "id": "v8uh0-A3dxCV"
   },
   "outputs": [],
   "source": [
    "def size(A):\n",
    "  rows = len(A)\n",
    "\n",
    "  if rows > 0:\n",
    "    if type(A[0]) != list:\n",
    "      raise RuntimeError('matrix should be list of lists')\n",
    "\n",
    "    cols = len(A[0])\n",
    "    return rows, cols\n",
    "  else:\n",
    "    return 0, 0"
   ]
  },
  {
   "cell_type": "code",
   "execution_count": null,
   "metadata": {
    "colab": {
     "base_uri": "https://localhost:8080/"
    },
    "id": "ZgFS0_5mux_E",
    "outputId": "2ddffb83-7e61-465b-d18d-7aa0ee781bda"
   },
   "outputs": [
    {
     "name": "stdout",
     "output_type": "stream",
     "text": [
      "(3, 3)\n"
     ]
    }
   ],
   "source": [
    "A=[[2,3,4],[5,6,7],[8,9,41]]\n",
    "print(size(A))"
   ]
  },
  {
   "cell_type": "markdown",
   "metadata": {
    "id": "YnvBXm1RP6FE"
   },
   "source": [
    "\n",
    "\n",
    "> - Generate a matrix\n",
    "\n",
    "> This Python function should generate a matrix with the specified number of rows and columns, filled with a default value.\n",
    "\n",
    "\n"
   ]
  },
  {
   "cell_type": "code",
   "execution_count": null,
   "metadata": {
    "id": "9hYcxztLP6Yd"
   },
   "outputs": [],
   "source": [
    "def generate(rows, columns, default_value = 0):\n",
    "  pass"
   ]
  },
  {
   "cell_type": "code",
   "execution_count": null,
   "metadata": {
    "id": "-dfY-AwyvFIA"
   },
   "outputs": [],
   "source": [
    "def generate(rows, columns,default_value):\n",
    "  matrix=[]\n",
    "  for i in range(rows):\n",
    "    row=[default_value]*columns\n",
    "    matrix.append(row)\n",
    "  return matrix\n"
   ]
  },
  {
   "cell_type": "code",
   "execution_count": null,
   "metadata": {
    "colab": {
     "base_uri": "https://localhost:8080/"
    },
    "id": "AxPLTzNXvxtv",
    "outputId": "87346e5e-1b6b-45e6-a436-d18c7a833126"
   },
   "outputs": [
    {
     "name": "stdout",
     "output_type": "stream",
     "text": [
      "[[2, 2, 2, 2], [2, 2, 2, 2], [2, 2, 2, 2]]\n"
     ]
    }
   ],
   "source": [
    "print(generate(3,4,2))"
   ]
  },
  {
   "cell_type": "markdown",
   "metadata": {
    "id": "4JcBUpuSd3at"
   },
   "source": [
    "\n",
    "\n",
    "> - Scalar multiplication\n",
    "\n",
    "> Scalar multiplication is a matrix operation where every entry in the list/array is mutiplied by a given scalar. Thus, our function takes two parameters: the list and the number, which will multiply every number in the list.\n",
    "\n"
   ]
  },
  {
   "cell_type": "code",
   "execution_count": null,
   "metadata": {
    "id": "B7KNnvp0ezqt"
   },
   "outputs": [],
   "source": [
    "def scalar_mul(num, A):\n",
    "  pass"
   ]
  },
  {
   "cell_type": "code",
   "execution_count": null,
   "metadata": {
    "id": "k9DJACj-at8H"
   },
   "outputs": [],
   "source": [
    "def scalar_num(num,A):\n",
    "  for i in range(len(A)): #ulazim u redove matrice\n",
    "    for j in range(len(A[i])):  #ulazim u kolone u trenutnom redu\n",
    "      A[i][j]*=num #povećavam za dati broj\n",
    "  return  A"
   ]
  },
  {
   "cell_type": "code",
   "execution_count": null,
   "metadata": {
    "colab": {
     "base_uri": "https://localhost:8080/"
    },
    "id": "9QcPAz7MbWua",
    "outputId": "a45e044e-9133-424a-cf32-68ee529cf406"
   },
   "outputs": [
    {
     "name": "stdout",
     "output_type": "stream",
     "text": [
      "[[4, 8, 12], [16, 20, 24], [28, 32, 36]]\n"
     ]
    }
   ],
   "source": [
    "A = [[1, 2, 3],\n",
    "     [4, 5, 6],\n",
    "     [7, 8, 9]]\n",
    "\n",
    "num=4\n",
    "print(scalar_num(num,A))"
   ]
  },
  {
   "cell_type": "markdown",
   "metadata": {
    "id": "rcz2neLC4aP9"
   },
   "source": [
    "* Scalar addition\n",
    "\n",
    "\n",
    "Scalar addition is a matrix operation where every entry in the list/array is increased by a given scalar. Thus, our function takes two parameters: the list and the number, which will increase every number in the list.\n"
   ]
  },
  {
   "cell_type": "code",
   "execution_count": null,
   "metadata": {
    "id": "fVk5nWkf4sWD"
   },
   "outputs": [],
   "source": [
    "def scalar_add(num, A):\n",
    "  pass"
   ]
  },
  {
   "cell_type": "code",
   "execution_count": null,
   "metadata": {
    "id": "eBpATwX1jJeY"
   },
   "outputs": [],
   "source": [
    "def scalar_add(num,A):\n",
    "  for i in range(len(A)): #ulazim u redove matrice\n",
    "    for j in range(len(A[i])):  #ulazim u kolone u trenutnom redu\n",
    "      A[i][j]+=num #povećavam za dati broj\n",
    "  return  A\n"
   ]
  },
  {
   "cell_type": "code",
   "execution_count": null,
   "metadata": {
    "colab": {
     "base_uri": "https://localhost:8080/"
    },
    "id": "s9xfz1PzjX-D",
    "outputId": "5e8b0d9c-9b30-47f8-ab4d-b67ceabb20c4"
   },
   "outputs": [
    {
     "name": "stdout",
     "output_type": "stream",
     "text": [
      "[[5, 6, 7], [8, 9, 10], [11, 12, 13]]\n"
     ]
    }
   ],
   "source": [
    "A=[[1,2,3],[4,5,6],\n",
    " [7,8,9]]\n",
    "num=4\n",
    "print(scalar_add(num,A))\n"
   ]
  },
  {
   "cell_type": "markdown",
   "metadata": {
    "id": "fuLUNjkLfXjQ"
   },
   "source": [
    "\n",
    "\n",
    "\n",
    "> - Matrix multiplication\n",
    "\n",
    "> In order to multiply two matrices, we have a pretty well known rule. To be able to multiply two matrices, number of columns of the first matrix needs to be the same as the number of rows of the second one.\n"
   ]
  },
  {
   "cell_type": "code",
   "execution_count": null,
   "metadata": {
    "id": "_WfM-qH8gZIn"
   },
   "outputs": [],
   "source": [
    "def mul(A, B):\n",
    "  pass"
   ]
  },
  {
   "cell_type": "code",
   "execution_count": 1,
   "metadata": {
    "id": "UfEZGKqylyS4"
   },
   "outputs": [],
   "source": [
    "def mul(A,B):\n",
    "  if(A!=B): #Uslov za kolone i redove\n",
    "    print(\"The number of columns of the first matrix is not the same as number of rows of second matrix ! \")\n",
    "  matrix_C=[] # neka nova matrica koja nastaje množenjem ove dvije matirce\n",
    "  for i in range(len(A)): # ulazim u  redove matrice A\n",
    "    row=[]\n",
    "    for j in range(len(B[0])):# ulazim u prvi red matrice B\n",
    "      sum=0\n",
    "      for k in range(len(B)): #Ulazim u kolonu matrice B\n",
    "        sum*=A[i][k]+B[j][k]\n",
    "      row.append(sum)\n",
    "    matrix_C.append(row)\n",
    "\n",
    "  return matrix_C\n"
   ]
  },
  {
   "cell_type": "code",
   "execution_count": 2,
   "metadata": {
    "colab": {
     "base_uri": "https://localhost:8080/"
    },
    "id": "e4CxhNuNq-tu",
    "outputId": "c39622e0-3d0d-4208-e1a4-527da64f9d82"
   },
   "outputs": [
    {
     "name": "stdout",
     "output_type": "stream",
     "text": [
      "The number of columns of the first matrix is not the same as number of rows of second matrix ! \n",
      "[[0, 0, 0], [0, 0, 0], [0, 0, 0]]\n"
     ]
    }
   ],
   "source": [
    "\n",
    "A = [[1, 2, 3],\n",
    "     [4, 5, 6],\n",
    "     [7, 8, 9]]\n",
    "\n",
    "B = [[0, 0, 0],\n",
    "     [0, 0, 0],\n",
    "     [1, 1, 1]]\n",
    "\n",
    "print(mul(A, B))"
   ]
  },
  {
   "cell_type": "code",
   "execution_count": null,
   "metadata": {
    "id": "PKV_PI-onaY_"
   },
   "outputs": [],
   "source": []
  },
  {
   "cell_type": "markdown",
   "metadata": {
    "id": "NETJisjK-9V_"
   },
   "source": [
    "\n",
    "\n",
    "> - Concatenation of matrices\n",
    "\n",
    "\n",
    "> Matrix concatenation is the process of joining one or more matrices to make a new matrix. To be able to concatenate two matrices, their number of rows must match.\n",
    "\n",
    "![images.png](data:image/png;base64,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)\n",
    "\n",
    "\n"
   ]
  },
  {
   "cell_type": "code",
   "execution_count": null,
   "metadata": {
    "id": "G9OwXEPv-9BK"
   },
   "outputs": [],
   "source": [
    "def concat(A, B):\n",
    "  pass"
   ]
  },
  {
   "cell_type": "code",
   "execution_count": null,
   "metadata": {
    "id": "X4PSiu_AozlI"
   },
   "outputs": [],
   "source": [
    "def concat(A,B):\n",
    "  if(len(A)!=len(B)):\n",
    "    print(\"We can't help you with this.\")\n",
    "  matrix_C=[]\n",
    "  for i in range(len(A)):\n",
    "          row=A[i]+B[i]\n",
    "          matrix_C.append(row)\n",
    "\n",
    "  return matrix_C\n",
    "\n"
   ]
  },
  {
   "cell_type": "code",
   "execution_count": null,
   "metadata": {
    "colab": {
     "base_uri": "https://localhost:8080/"
    },
    "id": "6kCvYyz3tEsH",
    "outputId": "d8a38975-dd37-49e1-aa7b-0e680282964e"
   },
   "outputs": [
    {
     "name": "stdout",
     "output_type": "stream",
     "text": [
      "[[1, 2, 3, 10, 11, 12], [4, 5, 6, 13, 14, 15], [7, 8, 9, 16, 17, 18]]\n"
     ]
    }
   ],
   "source": [
    "A = [[1, 2, 3],\n",
    "     [4, 5, 6],\n",
    "     [7, 8, 9]]\n",
    "B = [[10,11,12],\n",
    "     [13,14,15],\n",
    "     [16,17,18]]\n",
    "\n",
    "print(concat(A,B))"
   ]
  },
  {
   "cell_type": "markdown",
   "metadata": {
    "id": "vHbtE_CM77fL"
   },
   "source": [
    "\n",
    "\n",
    "> - Addition and subtraction of matrices\n",
    "\n",
    "\n",
    "> Two matrices can be added together if and only if they have the same dimension. Their sum is obtained by summing each element of one matrix to the corresponding element of the other matrix. In other words, we sum the element on the (0, 0) position from the first matrix with the element on the position (0, 0) from the second matrix ...\n",
    "The same thing applies to the subtraction of matrices.\n",
    "\n",
    "\n",
    "\n"
   ]
  },
  {
   "cell_type": "code",
   "execution_count": null,
   "metadata": {
    "id": "KsKH7VHx8FyL"
   },
   "outputs": [],
   "source": [
    "def add(A, B):\n",
    "  if(len(A)!=len(B) or len(A[0])!= len(B[0])):\n",
    "    print(\"Dimensions of those matrices are not the same !\")\n",
    "\n",
    "  matrix_C=[]\n",
    "\n",
    "  for i in range(len(A)):\n",
    "    row=[]\n",
    "    for j in range(len(A[0])):\n",
    "      row.append(A[i][j]+B[i][j])\n",
    "    matrix_C.append(row)\n",
    "  return matrix_C"
   ]
  },
  {
   "cell_type": "code",
   "execution_count": null,
   "metadata": {
    "id": "_NMc9R31QnRa"
   },
   "outputs": [],
   "source": [
    "def sub(A, B):\n",
    "  if(len(A)!=len(B) or len(A[0])!= len(B[0])):\n",
    "    print(\"Dimensions of those matrices are not the same !\")\n",
    "\n",
    "  matrix_C=[]\n",
    "\n",
    "  for i in range(len(A)):\n",
    "    row=[]\n",
    "    for j in range(len(A[0])):\n",
    "      row.append(A[i][j]-B[i][j])\n",
    "    matrix_C.append(row)\n",
    "  return matrix_C\n"
   ]
  },
  {
   "cell_type": "code",
   "execution_count": null,
   "metadata": {
    "colab": {
     "base_uri": "https://localhost:8080/"
    },
    "id": "zItqLaLGt2tn",
    "outputId": "a30083a4-e82f-4d7b-ffc3-e03a05f227e6"
   },
   "outputs": [
    {
     "name": "stdout",
     "output_type": "stream",
     "text": [
      "[[-9, -9, -9], [-9, -9, -9], [-9, -9, -9]]\n",
      "[[11, 13, 15], [17, 19, 21], [23, 25, 27]]\n"
     ]
    }
   ],
   "source": [
    "A = [[1, 2, 3],\n",
    "     [4, 5, 6],\n",
    "     [7, 8, 9]]\n",
    "B = [[10,11,12],\n",
    "     [13,14,15],\n",
    "     [16,17,18]]\n",
    "print(sub(A,B))\n",
    "print(add(A,B))"
   ]
  },
  {
   "cell_type": "markdown",
   "metadata": {
    "id": "qYtx7wGZ9dTx"
   },
   "source": [
    "\n",
    "\n",
    "> - Matrix sum and product\n",
    "\n",
    "\n",
    "> To sum all the elements from a matrix, you can iterate over each row and column of the matrix, adding each element to a running total. You can initialize a variable to store the sum and then use nested loops to traverse the matrix, summing each element as you iterate. The same thing applies when we want to find the product of a matrix.\n",
    "\n",
    "\n"
   ]
  },
  {
   "cell_type": "code",
   "execution_count": null,
   "metadata": {
    "id": "vXfJmyvn9qVB"
   },
   "outputs": [],
   "source": [
    "def sum_el(A):\n",
    "  sum=0\n",
    "  for row in A:\n",
    "    for element in row:\n",
    "      sum=sum+element\n",
    "  return sum\n"
   ]
  },
  {
   "cell_type": "code",
   "execution_count": null,
   "metadata": {
    "colab": {
     "base_uri": "https://localhost:8080/"
    },
    "id": "_SK8MnSowmFq",
    "outputId": "ae69b81e-89ec-4c67-dcbb-276cc607af32"
   },
   "outputs": [
    {
     "name": "stdout",
     "output_type": "stream",
     "text": [
      "45\n"
     ]
    }
   ],
   "source": [
    "A = [[1, 2, 3],\n",
    "     [4, 5, 6],\n",
    "     [7, 8, 9]]\n",
    "\n",
    "print(sum_el(A))"
   ]
  },
  {
   "cell_type": "code",
   "execution_count": null,
   "metadata": {
    "id": "L9jwPhmrRkhg"
   },
   "outputs": [],
   "source": [
    "def prod_el(A):\n",
    "  pass"
   ]
  },
  {
   "cell_type": "code",
   "execution_count": null,
   "metadata": {
    "id": "0M9ZRsd9w0L7"
   },
   "outputs": [],
   "source": [
    "def prod_el(A):\n",
    "  product=1 # ide 1 jer ako bi stavili u ovu varijablu 0 , onda bi citav proizvod bio 0 , a svaki broj * 1 je taj isti broj :D\n",
    "  for row in A:\n",
    "    for element in row:\n",
    "      product*=element\n",
    "  return product"
   ]
  },
  {
   "cell_type": "code",
   "execution_count": null,
   "metadata": {
    "colab": {
     "base_uri": "https://localhost:8080/"
    },
    "id": "qQHTmAe5wupJ",
    "outputId": "b16f688f-77f4-454b-eab2-d392a85760c3"
   },
   "outputs": [
    {
     "name": "stdout",
     "output_type": "stream",
     "text": [
      "362880\n"
     ]
    }
   ],
   "source": [
    "A = [[1, 2, 3],\n",
    "     [4, 5, 6],\n",
    "     [7, 8, 9]]\n",
    "print(prod_el(A))"
   ]
  },
  {
   "cell_type": "markdown",
   "metadata": {
    "id": "LPPaXja0hYSB"
   },
   "source": [
    "\n",
    "\n",
    "> - Matrix transpose\n",
    "\n",
    "> To calculate the transpose of a matrix, simply interchange the rows and columns of the matrix i.e. write the elements of the rows as columns and write the elements of a column as rows. Or to be more clear, if you have a matrix like this on the left.\n",
    "\n",
    "\n",
    "```\n",
    "  [\n",
    "    [1, 2],\n",
    "    [2, 4],           ------------>          [[1, 2, 4, 3], [2, 4, 2, 1]\n",
    "    [4, 2],\n",
    "    [3, 1]\n",
    "  ]\n",
    "```\n",
    "Its transpose matrix will be the one on the right.\n"
   ]
  },
  {
   "cell_type": "code",
   "execution_count": null,
   "metadata": {
    "id": "SeQffsiZhdyB"
   },
   "outputs": [],
   "source": [
    "def trans(A):\n",
    "  pass"
   ]
  },
  {
   "cell_type": "code",
   "execution_count": null,
   "metadata": {
    "id": "fsMC5NWXxVZv"
   },
   "outputs": [],
   "source": [
    "def trans(A):\n",
    "  transpose=[]\n",
    "  for i in range(len(A)):\n",
    "    row=[]\n",
    "    for j in range(len(A[0])):\n",
    "      row.append(A[i][j])\n",
    "    transpose.append(row)\n",
    "  return transpose\n",
    "\n"
   ]
  },
  {
   "cell_type": "code",
   "execution_count": null,
   "metadata": {
    "colab": {
     "base_uri": "https://localhost:8080/"
    },
    "id": "pQfhylP7xVNh",
    "outputId": "b34e2272-ae7f-428c-e62d-950bb530bfc6"
   },
   "outputs": [
    {
     "name": "stdout",
     "output_type": "stream",
     "text": [
      "[[1, 2, 3], [4, 5, 6], [7, 8, 9]]\n"
     ]
    }
   ],
   "source": [
    "A = [[1, 2, 3],\n",
    "     [4, 5, 6],\n",
    "     [7, 8, 9]]\n",
    "print(trans(A))"
   ]
  },
  {
   "cell_type": "markdown",
   "metadata": {
    "id": "UNxS4FQ-nxiN"
   },
   "source": [
    "\n",
    "\n",
    "> - Identity matrix\n",
    "\n",
    "\n",
    "> The identity matrix, typically denoted is a square matrix where all elements along the main diagonal are equal to 1, and all other elements are zero. It is called the identity matrix because when it is multiplied by any other matrix of compatible dimensions, the result is the original matrix itself. For example, if you had a 2 x 2 square matrix like this one, its identity matrix would be the one on the right.\n",
    "\n",
    "\n",
    "```\n",
    "[                                [\n",
    "  [1, 2],                            [1, 0],\n",
    "  [3, 4]    --------------->         [0, 1]\n",
    "\n",
    "]                                ]\n",
    "\n",
    "```\n",
    "\n"
   ]
  },
  {
   "cell_type": "code",
   "execution_count": null,
   "metadata": {
    "id": "HhPz9Tm1n1Ms"
   },
   "outputs": [],
   "source": [
    "def identity(mtx):\n",
    "  pass"
   ]
  },
  {
   "cell_type": "code",
   "execution_count": null,
   "metadata": {
    "id": "1Eblq6LTzO2_"
   },
   "outputs": [],
   "source": [
    "def identity(n):\n",
    "    identity_matrix = [[0] * n for _ in range(n)]\n",
    "    for i in range(n):\n",
    "        identity_matrix[i][i] = 1\n",
    "    return identity_matrix\n",
    "\n"
   ]
  },
  {
   "cell_type": "code",
   "execution_count": null,
   "metadata": {
    "colab": {
     "base_uri": "https://localhost:8080/"
    },
    "id": "uoEI6amdzOrF",
    "outputId": "73f8815f-b072-48bb-b298-5c16abbf7b95"
   },
   "outputs": [
    {
     "name": "stdout",
     "output_type": "stream",
     "text": [
      "[1, 0, 0]\n",
      "[0, 1, 0]\n",
      "[0, 0, 1]\n"
     ]
    }
   ],
   "source": [
    "n = 3\n",
    "identical_matrix = identity(n)\n",
    "for row in identical_matrix:\n",
    "    print(row)"
   ]
  },
  {
   "cell_type": "markdown",
   "metadata": {
    "id": "opuXdAnJjASp"
   },
   "source": [
    "\n",
    "\n",
    "> - Minor\n",
    "\n",
    "\n",
    "> A minor of a matrix A is the determinant of some smaller square matrix, cut down from A by removing one or more of its rows and columns. Simply said, it is removing a specified row and column from the matrix and returning \"what is left of a matrix\". To be more clear, let's check the figure below. If we have the following matrix M, its minor after putting row and column values to be 1 is the matrix in white, or\n",
    "\n",
    "\n",
    "```\n",
    "[\n",
    "  [5, 3],\n",
    "  [9, 9]\n",
    "]\n",
    "\n",
    "```\n",
    "\n",
    "\n",
    "\n",
    "\n",
    "![image.png](data:image/png;base64,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)\n",
    "\n",
    "To verify your result, you can check the [following link](https://www.emathhelp.net/en/calculators/linear-algebra/matrix-of-minors-calculator/)."
   ]
  },
  {
   "cell_type": "code",
   "execution_count": null,
   "metadata": {
    "id": "n2lsK2s2jafG"
   },
   "outputs": [],
   "source": [
    "def minor(mtx, row, column):\n",
    "  pass"
   ]
  },
  {
   "cell_type": "code",
   "execution_count": null,
   "metadata": {
    "id": "zRWhmWbd1EMp"
   },
   "outputs": [],
   "source": [
    "def minor(M,row,column):\n",
    "  N=[]\n",
    "  for i in range(len(M)):\n",
    "    if i==row:\n",
    "      continue\n",
    "\n",
    "    new_row=[]\n",
    "    for j in range(len(M[i])):\n",
    "      if j == column:\n",
    "        continue\n",
    "        new_row.append(M[i][j])\n",
    "\n",
    "    N.append(new_row)\n",
    "\n",
    "  return N"
   ]
  },
  {
   "cell_type": "code",
   "execution_count": null,
   "metadata": {
    "colab": {
     "base_uri": "https://localhost:8080/"
    },
    "id": "ASLLGldh1D_o",
    "outputId": "ac049662-31b9-4e61-80b2-fac7189862a5"
   },
   "outputs": [
    {
     "name": "stdout",
     "output_type": "stream",
     "text": [
      "[[], []]\n"
     ]
    }
   ],
   "source": [
    "M = [[6,9,8],[1,5,3],[1,9,9]]\n",
    "print(minor(M,1,1))"
   ]
  },
  {
   "cell_type": "markdown",
   "metadata": {
    "id": "K4PZZGFkmWio"
   },
   "source": [
    "\n",
    "\n",
    "> - Cofactor\n",
    "\n",
    "\n",
    "> The cofactor of an element of a matrix is the determinant of the matrix obtained by eliminating the row and column in the matrix that contains the element and then multiplying by +1 or -1 according to the position of the element. We have cofactors corresponding to each entry in a matrix. The formula to calculate the sign of the cofactor value is: $ (-1)^{i+j} $, where i is the number of rows and j is the number of columns. To verify your result, you can check the [following link](https://www.emathhelp.net/en/calculators/linear-algebra/cofactor-matrix-calculator/).\n"
   ]
  },
  {
   "cell_type": "code",
   "execution_count": null,
   "metadata": {
    "id": "GT5DakmHmZ_R"
   },
   "outputs": [],
   "source": [
    "def cofactor(mtx, i, j):\n",
    "    pass"
   ]
  },
  {
   "cell_type": "code",
   "execution_count": 115,
   "metadata": {
    "id": "Rt0wg6qX3ad2"
   },
   "outputs": [],
   "source": [
    "def getMatrixMinor(m, i, j):\n",
    "    return [row[:j] + row[j+1:] for row in (m[:i] + m[i+1:])]\n",
    "\n",
    "def getMatrixDeterminant(m):\n",
    "    if len(m) == 2:\n",
    "        return m[0][0] * m[1][1] - m[0][1] * m[1][0]\n",
    "\n",
    "    determinant = 0\n",
    "    for c in range(len(m)):\n",
    "        determinant += ((-1) ** c) * m[0][c] * getMatrixDeterminant(getMatrixMinor(m, 0, c))\n",
    "    return determinant\n",
    "\n",
    "\n"
   ]
  },
  {
   "cell_type": "code",
   "execution_count": 116,
   "metadata": {
    "colab": {
     "base_uri": "https://localhost:8080/"
    },
    "id": "mz_2vhTaAs4y",
    "outputId": "70569c84-00c8-406b-f665-497e6dbe5b63"
   },
   "outputs": [
    {
     "name": "stdout",
     "output_type": "stream",
     "text": [
      "Determinant of the matrix: -207\n"
     ]
    }
   ],
   "source": [
    "matrix = [\n",
    "    [1, 2, 3],\n",
    "    [4, 5, 6],\n",
    "    [7, 8, 78]\n",
    "]\n",
    "\n",
    "result = getMatrixDeterminant(matrix)\n",
    "print(f\"Determinant of the matrix: {result}\")"
   ]
  },
  {
   "cell_type": "markdown",
   "metadata": {
    "id": "wIzeT-BZmCVi"
   },
   "source": [
    "\n",
    "\n",
    "> - Determinant\n",
    "\n",
    "\n",
    "> The [determinant](https://www.mathsisfun.com/algebra/matrix-determinant.html) of a square matrix is a scalar value that represents certain properties of the matrix. It is calculated using a specific mathematical formula and provides information about the matrix's invertibility, volume scaling factor in transformations, and linear independence of its column vectors.\n",
    "To check how the process of determining the value of determinant works,you can check out the [link](https://matrix.reshish.com/determinant.php).\n"
   ]
  },
  {
   "cell_type": "code",
   "execution_count": null,
   "metadata": {
    "id": "a8mkOOKtmHVF"
   },
   "outputs": [],
   "source": [
    "def determinant(mtx):\n",
    "    row, column = sizeof(mtx)\n",
    "    if row != column:\n",
    "        raise RuntimeError('Not a square matrix')\n",
    "    if row == 1:\n",
    "        return mtx[0][0]\n",
    "    elif row == 2:\n",
    "        return mtx[0][0] * mtx[1][1] - mtx[0][1] * mtx[1][0]\n",
    "    else:\n",
    "        det = 0\n",
    "        for j in range(column):\n",
    "            det += mtx[0][j] * cofactor(mtx, 0, j)\n",
    "        return det"
   ]
  },
  {
   "cell_type": "code",
   "execution_count": 118,
   "metadata": {
    "id": "LehwJF4_6xz5"
   },
   "outputs": [],
   "source": [
    "def determinant(matrix):\n",
    "    if len(matrix) == 2:\n",
    "        return matrix[0][0] * matrix[1][1] - matrix[0][1] * matrix[1][0]\n",
    "\n",
    "    det = 0\n",
    "    for i in range(len(matrix)):\n",
    "        submatrix = [row[:i] + row[i+1:] for row in matrix[1:]]\n",
    "        sub_det = determinant(submatrix)\n",
    "        det += (-1) ** i * matrix[0][i] * sub_det\n",
    "\n",
    "    return det"
   ]
  },
  {
   "cell_type": "code",
   "execution_count": 120,
   "metadata": {
    "colab": {
     "base_uri": "https://localhost:8080/"
    },
    "id": "-wQGNjhCBAw0",
    "outputId": "c7305031-ccf9-4a25-9db9-dc358fb8ac9d"
   },
   "outputs": [
    {
     "name": "stdout",
     "output_type": "stream",
     "text": [
      "Determinant: -366\n"
     ]
    }
   ],
   "source": [
    "matrix = [[0,1, 3],\n",
    "          [4, 8, 14],\n",
    "          [7, 8, 98]]\n",
    "det = determinant(matrix)\n",
    "print(\"Determinant:\", det)"
   ]
  },
  {
   "cell_type": "markdown",
   "metadata": {
    "id": "qgkWOlhsni1U"
   },
   "source": [
    "\n",
    "\n",
    "> - Inverse matrix\n",
    "\n",
    "\n",
    "> [Inverse matrix](https://www.mathsisfun.com/algebra/matrix-inverse.html) is obtained by dividing the adjugate of the given matrix by the determinant of the given matrix. A few tips on how to calculate this:\n",
    "- Find the adjoint matrix of the given matrix. The adjoint of a matrix is the transpose of the matrix of cofactors of A.\n",
    "- Multiply the transpose of the cofactor matrix by the reciprocal of the determinant of the original matrix.\n",
    "\n",
    "> To verify the corectness of your code, you can use this [link](https://matrix.reshish.com/inverse.php).\n",
    "\n",
    "\n"
   ]
  },
  {
   "cell_type": "code",
   "execution_count": 121,
   "metadata": {
    "id": "7AXtO5_cnqxl"
   },
   "outputs": [],
   "source": [
    "def inverse(mtx):\n",
    "  pass"
   ]
  },
  {
   "cell_type": "code",
   "execution_count": 122,
   "metadata": {
    "id": "jvvCP1HEBJju"
   },
   "outputs": [],
   "source": [
    "def transposeMatrix(m):\n",
    "    return list(map(list, zip(*m)))\n",
    "\n",
    "def getMatrixMinor(m, i, j):\n",
    "    return [row[:j] + row[j + 1:] for row in (m[:i] + m[i + 1:])]\n",
    "\n",
    "def getMatrixDeterminant(m):\n",
    "    # Base case for 2x2 matrix\n",
    "    if len(m) == 2:\n",
    "        return m[0][0] * m[1][1] - m[0][1] * m[1][0]\n",
    "\n",
    "    determinant = 0\n",
    "    for c in range(len(m)):\n",
    "        determinant += ((-1) ** c) * m[0][c] * getMatrixDeterminant(getMatrixMinor(m, 0, c))\n",
    "\n",
    "    return determinant\n",
    "\n",
    "def getMatrixInverse(m):\n",
    "    determinant = getMatrixDeterminant(m)\n",
    "\n",
    "    if len(m) == 2:\n",
    "        return [\n",
    "            [m[1][1] / determinant, -1 * m[0][1] / determinant],\n",
    "            [-1 * m[1][0] / determinant, m[0][0] / determinant]\n",
    "        ]\n",
    "\n",
    "    cofactors = []\n",
    "    for r in range(len(m)):\n",
    "        cofactorRow = []\n",
    "        for c in range(len(m)):\n",
    "            minor = getMatrixMinor(m, r, c)\n",
    "            cofactorRow.append(((-1) ** (r + c)) * getMatrixDeterminant(minor))\n",
    "        cofactors.append(cofactorRow)\n",
    "\n",
    "\n",
    "    cofactors = transposeMatrix(cofactors)\n",
    "\n",
    "    for r in range(len(cofactors)):\n",
    "        for c in range(len(cofactors)):\n",
    "            cofactors[r][c] = cofactors[r][c] / determinant\n",
    "\n",
    "    return cofactors\n"
   ]
  },
  {
   "cell_type": "code",
   "execution_count": 125,
   "metadata": {
    "colab": {
     "base_uri": "https://localhost:8080/"
    },
    "id": "C-hP5Ky2BjUW",
    "outputId": "7aa9a20f-33c7-4133-ce5c-c7c100ef699f"
   },
   "outputs": [
    {
     "name": "stdout",
     "output_type": "stream",
     "text": [
      "Inverse of M:\n",
      "[1.0, 0.0, 0.0]\n",
      "[0.0, 1.0, 0.0]\n",
      "[0.0, 0.0, 1.0]\n"
     ]
    }
   ],
   "source": [
    "M = [[1, 0, 0], [0, 1, 0], [0, 0, 1]]\n",
    "Minv = getMatrixInverse(M)\n",
    "print(\"Inverse of M:\")\n",
    "for row in Minv:\n",
    "    print(row)"
   ]
  }
 ],
 "metadata": {
  "colab": {
   "provenance": []
  },
  "kernelspec": {
   "display_name": "Python 3 (ipykernel)",
   "language": "python",
   "name": "python3"
  },
  "language_info": {
   "codemirror_mode": {
    "name": "ipython",
    "version": 3
   },
   "file_extension": ".py",
   "mimetype": "text/x-python",
   "name": "python",
   "nbconvert_exporter": "python",
   "pygments_lexer": "ipython3",
   "version": "3.11.7"
  }
 },
 "nbformat": 4,
 "nbformat_minor": 4
}
