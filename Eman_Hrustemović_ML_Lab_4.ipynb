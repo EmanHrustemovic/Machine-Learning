{
  "nbformat": 4,
  "nbformat_minor": 0,
  "metadata": {
    "colab": {
      "provenance": []
    },
    "kernelspec": {
      "name": "python3",
      "display_name": "Python 3"
    },
    "language_info": {
      "name": "python"
    }
  },
  "cells": [
    {
      "cell_type": "markdown",
      "source": [
        "## [Lab 4] Linear Regression"
      ],
      "metadata": {
        "id": "oWBzRWBYqrzF"
      }
    },
    {
      "cell_type": "markdown",
      "source": [
        "  Linear regression is a fundamental statistical method used to model the relationship between a dependent variable and one or more independent variables. It assumes a linear relationship between the variables, allowing us to predict the value of the dependent variable based on the known values of the independent variables.\n",
        "\n",
        "\n",
        "---\n",
        "\n",
        "The goal of this lab session is focused on learning linear regression and interpreting its models. We will work with the real-world dataset, apply techniques to fit lines to data points, assess model performance, understand assumptions, and interpret results.\n",
        "\n",
        "---\n",
        " Some of the useful and most important equations:\n",
        "\n",
        "\n",
        "> Linear Regression Hypothesis : $h(x) = w_{0}+ w_{1}x$\n",
        "\n",
        "\n",
        "\n",
        "> Linear Regression Model : $y(x) = 1 + 1\\cdot x$\n",
        "\n",
        "\n",
        "\n",
        "\n",
        "> First Partial Derivatives :\n",
        "> $ \\frac{\\partial J}{\\partial w_{0}} = \\frac{1}{m} \\sum_{i=1}^{m} (y'^{(i)}-y^{(i)}) $,\n",
        "> $ \\frac{\\partial J}{\\partial w_{1}} = \\frac{1}{m} \\sum_{i=1}^{m} (y'^{(i)}-y^{(i)}) \\cdot x^{(i)} $\n",
        "\n"
      ],
      "metadata": {
        "id": "jqysWDO7qwj_"
      }
    },
    {
      "cell_type": "markdown",
      "source": [
        "> For the purpose of this lab, we will use [this](https://drive.google.com/file/d/104Cz-K9qiZ0FWnanl09gUULn58M8vau1/view?usp=share_link) dataset. You can download it from the LMS or from the Google Drive link, and upload to your notebook.\n",
        "\n",
        "> It only contains two columns: house price ($ y $) and size of the house ($ x $).\n"
      ],
      "metadata": {
        "id": "vxVd873LZwtK"
      }
    },
    {
      "cell_type": "markdown",
      "source": [
        "### 1.   Read and Write operations on a file\n",
        "In order to analyze and work with our dataset, firstly, we need to read its content. You can use the following code snippet. Additionally, you can use the helper *is_number* function, to handle possible non-numeric values in the columns."
      ],
      "metadata": {
        "id": "5mLV_-7NdrGj"
      }
    },
    {
      "cell_type": "code",
      "source": [
        "def is_number(s):\n",
        "    if s is None: return False\n",
        "    try:\n",
        "        complex(s)\n",
        "    except ValueError:\n",
        "        return False\n",
        "\n",
        "    return True\n",
        "\n",
        "def read_file(file_path):\n",
        "    try:\n",
        "        with open(file_path, 'r') as file:\n",
        "            data = []\n",
        "            lines = file.readlines()\n",
        "\n",
        "            keys = lines[0].split(',')\n",
        "            for i in range(1, len(lines)):\n",
        "                data_row = [\n",
        "                    float(cell.strip('\\n')) if is_number(cell.strip('\\n')) else cell.strip('\\n')\n",
        "                    for cell in lines[i].split(',')\n",
        "                ]\n",
        "                data.append(data_row)\n",
        "            return data\n",
        "    except FileNotFoundError:\n",
        "        raise RuntimeError(\"File not found.\")\n",
        "    except Exception as e:\n",
        "        raise RuntimeError(f\"An error occurred: {e}\")"
      ],
      "metadata": {
        "id": "doa2c0EFYjbP"
      },
      "execution_count": null,
      "outputs": []
    },
    {
      "cell_type": "code",
      "source": [
        "file_path=r'C:Desktop/Machine Learning/house_price.csv'\n",
        "with open(file_path,'r') as file:\n",
        "  data=[]"
      ],
      "metadata": {
        "colab": {
          "base_uri": "https://localhost:8080/",
          "height": 176
        },
        "id": "WMcq16JYW4vB",
        "outputId": "8a4d7611-10dd-438a-8f13-e9ef42015126"
      },
      "execution_count": null,
      "outputs": [
        {
          "output_type": "error",
          "ename": "FileNotFoundError",
          "evalue": "[Errno 2] No such file or directory: 'C:Desktop/Machine Learning/house_price.csv'",
          "traceback": [
            "\u001b[0;31m---------------------------------------------------------------------------\u001b[0m",
            "\u001b[0;31mFileNotFoundError\u001b[0m                         Traceback (most recent call last)",
            "\u001b[0;32m<ipython-input-31-98dc132fed67>\u001b[0m in \u001b[0;36m<cell line: 2>\u001b[0;34m()\u001b[0m\n\u001b[1;32m      1\u001b[0m \u001b[0mfile_path\u001b[0m\u001b[0;34m=\u001b[0m\u001b[0;34mr'C:Desktop/Machine Learning/house_price.csv'\u001b[0m\u001b[0;34m\u001b[0m\u001b[0;34m\u001b[0m\u001b[0m\n\u001b[0;32m----> 2\u001b[0;31m \u001b[0;32mwith\u001b[0m \u001b[0mopen\u001b[0m\u001b[0;34m(\u001b[0m\u001b[0mfile_path\u001b[0m\u001b[0;34m,\u001b[0m\u001b[0;34m'r'\u001b[0m\u001b[0;34m)\u001b[0m \u001b[0;32mas\u001b[0m \u001b[0mfile\u001b[0m\u001b[0;34m:\u001b[0m\u001b[0;34m\u001b[0m\u001b[0;34m\u001b[0m\u001b[0m\n\u001b[0m\u001b[1;32m      3\u001b[0m   \u001b[0mdata\u001b[0m\u001b[0;34m=\u001b[0m\u001b[0;34m[\u001b[0m\u001b[0;34m]\u001b[0m\u001b[0;34m\u001b[0m\u001b[0;34m\u001b[0m\u001b[0m\n",
            "\u001b[0;31mFileNotFoundError\u001b[0m: [Errno 2] No such file or directory: 'C:Desktop/Machine Learning/house_price.csv'"
          ]
        }
      ]
    },
    {
      "cell_type": "markdown",
      "source": [
        "### 2.1. Linear Regression Cost Function\n",
        "\n",
        "> This function should compute the cost function for a given set of parameters $w_{0}, w_{1}$\n",
        "(intercept and slope) of a linear regression model, based on the Mean Squared Error (MSE) formula. It iterates over each data point, calculates the predicted value using the current parameters, and accumulates the squared errors. Finally, it divides the sum by $2m$ (the number of data points), to get the average squared error. This function evaluates how well the linear regression model fits the training data.\n",
        "\n",
        "> The equation for the cost function is:\n",
        "\n",
        "> $J(w_{0}, w_{1}) = \\frac{1}{2m} \\sum_{i=1}^{m} (y'^{(i)}-y^{(i)})^2 $, where $y'^{(i)} = h(x^{(i)})$"
      ],
      "metadata": {
        "id": "Gmk9olvBdzZf"
      }
    },
    {
      "cell_type": "code",
      "source": [
        "def linear_reg_cost(w0, w1, x, y):\n",
        "  pass"
      ],
      "metadata": {
        "id": "hQFf3qiueaQx"
      },
      "execution_count": 11,
      "outputs": []
    },
    {
      "cell_type": "code",
      "source": [
        "def linear_reg_cost(w0,w1,x,y):\n",
        "  m=len(x)\n",
        "\n",
        "  errors=0\n",
        "\n",
        "  for i in range(m):\n",
        "    y_predicted=w0+w1*x[i]\n",
        "    squared_errors=(y_predicted-y[i])**2\n",
        "    errors+=squared_errors\n",
        "\n",
        "  MSE=(1/(2*m))**errors\n",
        "  return MSE\n",
        "\n"
      ],
      "metadata": {
        "id": "jkCEtYP-xv-R"
      },
      "execution_count": 10,
      "outputs": []
    },
    {
      "cell_type": "code",
      "source": [
        "w0 = 0.1\n",
        "w1 = 0.2\n",
        "\n",
        "x = [1, 2, 3, 4, 5]\n",
        "y = [1.5, 2.5, 3.5, 4.5, 5.5]\n",
        "\n",
        "\n",
        "print(linear_reg_cost(w0,w1,x,y))"
      ],
      "metadata": {
        "colab": {
          "base_uri": "https://localhost:8080/"
        },
        "id": "6TEftENgymf0",
        "outputId": "e43577fc-3b95-43fb-da54-13341c4ea905"
      },
      "execution_count": 12,
      "outputs": [
        {
          "output_type": "stream",
          "name": "stdout",
          "text": [
            "None\n"
          ]
        }
      ]
    },
    {
      "cell_type": "markdown",
      "source": [
        "### 2.2. Linear Regression Delta Cost\n",
        "\n",
        "> This function should compute the gradients of the cost function with respect to the parameters $(w_{0}, w_{1})$.  These gradients represent the direction and magnitude of adjustment needed to minimize the cost function, facilitating optimization techniques like gradient descent. By accumulating errors weighted by the corresponding features, it calculates the partial derivatives of the cost function and then averages these values by dividing by the number of data points $m$."
      ],
      "metadata": {
        "id": "eUlpVwSFmL-j"
      }
    },
    {
      "cell_type": "code",
      "source": [
        "def linear_reg_delta_cost(w0, w1, x, y):\n",
        "  pass"
      ],
      "metadata": {
        "id": "kiLr6r3ze0F6"
      },
      "execution_count": 8,
      "outputs": []
    },
    {
      "cell_type": "code",
      "source": [
        "def linear_reg_delta_cost(w0,w1,x,y):\n",
        "  sumY=0\n",
        "  sumX=0\n",
        "\n",
        "  m=len(x)\n",
        "\n",
        "  for i in range(m):\n",
        "    y_predicted=w0+w1*x[i]\n",
        "    difference=y_predicted -y[i]\n",
        "\n",
        "    sumY+=difference\n",
        "    sumX+=difference*x[i]\n",
        "\n",
        "  derivationX=sumX/m\n",
        "  derivationY=sumY/m\n",
        "\n",
        "  return derivationX,derivationY\n",
        "\n",
        "\n"
      ],
      "metadata": {
        "id": "jwJScSrkzWEP"
      },
      "execution_count": 9,
      "outputs": []
    },
    {
      "cell_type": "code",
      "source": [
        "w0 = 0.1\n",
        "w1 = 0.2\n",
        "\n",
        "x = [1, 2, 3, 4, 5]\n",
        "y = [1.5, 2.5, 3.5, 4.5, 5.5]\n",
        "\n",
        "print(linear_reg_delta_cost(w0,w1,x,y))"
      ],
      "metadata": {
        "colab": {
          "base_uri": "https://localhost:8080/"
        },
        "id": "oSLV_3qU0i3u",
        "outputId": "37c56814-066d-4889-a187-2400d6c038c3"
      },
      "execution_count": 13,
      "outputs": [
        {
          "output_type": "stream",
          "name": "stdout",
          "text": [
            "(-10.0, -2.8)\n"
          ]
        }
      ]
    },
    {
      "cell_type": "markdown",
      "source": [
        "### 2.3. Training the Linear Regression Model\n",
        "\n",
        "> To train the model, we are adjusting the slope and intercept values.\n",
        "\n",
        "> \\begin{align*}\n",
        "    w_0 &:= w_0 - \\frac{\\partial}{\\partial w_0} J(w_0, w_1) \\\\\n",
        "    w_1 &:= w_1 - \\frac{\\partial}{\\partial w_1} J(w_0, w_1)\n",
        "\\end{align*}\n",
        "\n",
        "The adjustment of weights is a crucial step in the optimization process. It occurs through gradient descent which measures the disparity between predicted and actual values. By iteratively updating the weights in the direction opposite to the gradient of the cost function, the algorithm seeks to descend towards the minimum of the cost function, thereby refining the model's parameters to better fit the data.\n"
      ],
      "metadata": {
        "id": "8_1FnlCTe1Q1"
      }
    },
    {
      "cell_type": "code",
      "source": [
        "def train_linear_reg(x,\n",
        "                     y,\n",
        "                     w0 = 0,\n",
        "                     w1 = 0,\n",
        "                     learning_rate = 0.0000004,\n",
        "                     num_iterations = 1000,\n",
        "                     logging = False):\n",
        "  pass"
      ],
      "metadata": {
        "id": "_3WnN-2le1Yv"
      },
      "execution_count": 4,
      "outputs": []
    },
    {
      "cell_type": "code",
      "source": [
        "def train_linear_reg(x,y,w0,w1,learning_rate,num_iterations,logging=False):\n",
        "  m=len(x)\n",
        "  costs=[]\n",
        "\n",
        "  for i in range(num_iterations):\n",
        "    y_predicted=[w0+w1*xi for xi in x]\n",
        "\n",
        "\n",
        "    gradientW0=(1/m)*sum([(y_predicted[j]-yi) for j, yi in enumerate(y)])\n",
        "    gradientW1=(1/m)*sum([(y_predicted[j]-yi) * xi for j, (xi,yi) in enumerate(zip(x,y))])\n",
        "\n",
        "    w0 -= learning_rate * gradientW0\n",
        "    w1 -= learning_rate * gradientW1\n",
        "\n",
        "    cost=linear_reg_cost(w0,w1,x,y)\n",
        "    costs.append(cost)\n",
        "    if logging:\n",
        "      print(f\"Iteration {i+1}: Cost = {cost}\")\n",
        "\n",
        "  return w0, w1, costs\n"
      ],
      "metadata": {
        "id": "B6D_FAKz1Tw8"
      },
      "execution_count": 5,
      "outputs": []
    },
    {
      "cell_type": "code",
      "source": [
        "w0 = 0.1\n",
        "w1 = 0.2\n",
        "\n",
        "x = [1, 2, 3, 4, 5]\n",
        "y = [1.5, 2.5, 3.5, 4.5, 5.5]\n",
        "\n",
        "learning_rate=0.0000000004\n",
        "num_iterations=1000\n",
        "logging=False\n",
        "\n",
        "print(train_linear_reg(x,y,w0,w1,learning_rate,num_iterations,logging))"
      ],
      "metadata": {
        "colab": {
          "base_uri": "https://localhost:8080/"
        },
        "id": "Xix-38vd1TkP",
        "outputId": "b7f857b1-bdbc-4d5c-ef6e-0ec404fea8c2"
      },
      "execution_count": 14,
      "outputs": [
        {
          "output_type": "stream",
          "name": "stdout",
          "text": [
            "(0.10000111999737864, 0.20000399999053745, [None, None, None, None, None, None, None, None, None, None, None, None, None, None, None, None, None, None, None, None, None, None, None, None, None, None, None, None, None, None, None, None, None, None, None, None, None, None, None, None, None, None, None, None, None, None, None, None, None, None, None, None, None, None, None, None, None, None, None, None, None, None, None, None, None, None, None, None, None, None, None, None, None, None, None, None, None, None, None, None, None, None, None, None, None, None, None, None, None, None, None, None, None, None, None, None, None, None, None, None, None, None, None, None, None, None, None, None, None, None, None, None, None, None, None, None, None, None, None, None, None, None, None, None, None, None, None, None, None, None, None, None, None, None, None, None, None, None, None, None, None, None, None, None, None, None, None, None, None, None, None, None, None, None, None, None, None, None, None, None, None, None, None, None, None, None, None, None, None, None, None, None, None, None, None, None, None, None, None, None, None, None, None, None, None, None, None, None, None, None, None, None, None, None, None, None, None, None, None, None, None, None, None, None, None, None, None, None, None, None, None, None, None, None, None, None, None, None, None, None, None, None, None, None, None, None, None, None, None, None, None, None, None, None, None, None, None, None, None, None, None, None, None, None, None, None, None, None, None, None, None, None, None, None, None, None, None, None, None, None, None, None, None, None, None, None, None, None, None, None, None, None, None, None, None, None, None, None, None, None, None, None, None, None, None, None, None, None, None, None, None, None, None, None, None, None, None, None, None, None, None, None, None, None, None, None, None, None, None, None, None, None, None, None, None, None, None, None, None, None, None, None, None, None, None, None, None, None, None, None, None, None, None, None, None, None, None, None, None, None, None, None, None, None, None, None, None, None, None, None, None, None, None, None, None, None, None, None, None, None, None, None, None, None, None, None, None, None, None, None, None, None, None, None, None, None, None, None, None, None, None, None, None, None, None, None, None, None, None, None, None, None, None, None, None, None, None, None, None, None, None, None, None, None, None, None, None, None, None, None, None, None, None, None, None, None, None, None, None, None, None, None, None, None, None, None, None, None, None, None, None, None, None, None, None, None, None, None, None, None, None, None, None, None, None, None, None, None, None, None, None, None, None, None, None, None, None, None, None, None, None, None, None, None, None, None, None, None, None, None, None, None, None, None, None, None, None, None, None, None, None, None, None, None, None, None, None, None, None, None, None, None, None, None, None, None, None, None, None, None, None, None, None, None, None, None, None, None, None, None, None, None, None, None, None, None, None, None, None, None, None, None, None, None, None, None, None, None, None, None, None, None, None, None, None, None, None, None, None, None, None, None, None, None, None, None, None, None, None, None, None, None, None, None, None, None, None, None, None, None, None, None, None, None, None, None, None, None, None, None, None, None, None, None, None, None, None, None, None, None, None, None, None, None, None, None, None, None, None, None, None, None, None, None, None, None, None, None, None, None, None, None, None, None, None, None, None, None, None, None, None, None, None, None, None, None, None, None, None, None, None, None, None, None, None, None, None, None, None, None, None, None, None, None, None, None, None, None, None, None, None, None, None, None, None, None, None, None, None, None, None, None, None, None, None, None, None, None, None, None, None, None, None, None, None, None, None, None, None, None, None, None, None, None, None, None, None, None, None, None, None, None, None, None, None, None, None, None, None, None, None, None, None, None, None, None, None, None, None, None, None, None, None, None, None, None, None, None, None, None, None, None, None, None, None, None, None, None, None, None, None, None, None, None, None, None, None, None, None, None, None, None, None, None, None, None, None, None, None, None, None, None, None, None, None, None, None, None, None, None, None, None, None, None, None, None, None, None, None, None, None, None, None, None, None, None, None, None, None, None, None, None, None, None, None, None, None, None, None, None, None, None, None, None, None, None, None, None, None, None, None, None, None, None, None, None, None, None, None, None, None, None, None, None, None, None, None, None, None, None, None, None, None, None, None, None, None, None, None, None, None, None, None, None, None, None, None, None, None, None, None, None, None, None, None, None, None, None, None, None, None, None, None, None, None, None, None, None, None, None, None, None, None, None, None, None, None, None, None, None, None, None, None, None, None, None, None, None, None, None, None, None, None, None, None, None, None, None, None, None, None, None, None, None, None, None, None, None, None, None, None, None, None, None, None, None, None, None, None, None, None, None, None, None, None, None, None, None, None, None, None, None, None, None, None, None, None, None, None, None, None, None, None, None, None, None, None, None, None, None, None, None, None, None, None, None, None, None, None, None, None, None, None, None, None, None, None, None, None, None, None, None, None, None, None, None, None, None, None, None, None, None, None, None, None, None, None, None, None, None, None, None, None, None, None, None, None, None, None, None, None, None, None, None, None, None, None, None, None, None, None, None, None, None, None, None, None, None, None, None])\n"
          ]
        }
      ]
    },
    {
      "cell_type": "markdown",
      "source": [
        "Of course, you will adjust these parameters according to your preference."
      ],
      "metadata": {
        "id": "8dK1LedMc5sx"
      }
    },
    {
      "cell_type": "markdown",
      "source": [
        "#### 2.4. Visualization\n",
        "> You can try to plot and visualize the regression line alongside the data points, to assess the model's fit and to see its performance when the adjustment of parameters is done. Below, you can find a helper column function, that will extracts a specific column. In our case, it is used to find the values of dependant and independant variable from our dataset."
      ],
      "metadata": {
        "id": "hAjEBQa4OzU7"
      }
    },
    {
      "cell_type": "code",
      "source": [
        "def column(matrix, i):\n",
        "    return [row[i] for row in matrix]"
      ],
      "metadata": {
        "id": "a8EeSU3ve-mk"
      },
      "execution_count": 16,
      "outputs": []
    },
    {
      "cell_type": "code",
      "source": [
        "matrix=[[2,4,5],[3,7,10],[70,80,45]]\n",
        "i=1\n",
        "print(column(matrix,i))\n"
      ],
      "metadata": {
        "colab": {
          "base_uri": "https://localhost:8080/"
        },
        "id": "3-GTb_MU5oqq",
        "outputId": "02e944fd-ff97-41b3-dc62-4d3cce345fe7"
      },
      "execution_count": 15,
      "outputs": [
        {
          "output_type": "stream",
          "name": "stdout",
          "text": [
            "[4, 7, 80]\n"
          ]
        }
      ]
    },
    {
      "cell_type": "code",
      "source": [
        "import matplotlib.pyplot as plt"
      ],
      "metadata": {
        "id": "yzynG1cogCNv"
      },
      "execution_count": 17,
      "outputs": []
    },
    {
      "cell_type": "markdown",
      "source": [
        "### 3. Vectorization\n",
        "\n",
        "\n",
        "> Vectorization is a technique that performs operations on entire arrays or matrices in a single operation rather than looping through each element individually. Now, your task is to implement and to train the linear regression model, by using the vectorization. Your method skeleton will look a bit different now and you will need to rewrite them, by using the matrix methods covered last week.\n",
        "\n"
      ],
      "metadata": {
        "id": "t2cVxS68lkqa"
      }
    },
    {
      "cell_type": "markdown",
      "source": [
        "#### 3.1. Linear Regression Cost Function\n",
        "> This function takes three matrices as the parameters:\n",
        "\n",
        "\n",
        "*   $ w $ (vector of weights, that contains slope and intercept for the independent variable)\n",
        "*  $ x $ (matrix of input features - each row of $x$ corresponds to a single entry data point)\n",
        "*  $ y $ (vector of each target value --> dependant variables)\n",
        "\n",
        "> By using the matrix methods that we implemented last week, implement this cost function.\n",
        "\n",
        "> **A bit of a tip**: To calculate the predicted values, use the matrix multiplication. To calculate the difference between actual and predicted values, use the diff method. The only thing left is to compute the square difference and divide it with the number of data points doubled."
      ],
      "metadata": {
        "id": "yrbKDuGwQjuP"
      }
    },
    {
      "cell_type": "code",
      "source": [
        "def linear_reg_cost(w, x, y):\n",
        "  pass"
      ],
      "metadata": {
        "id": "vlD8C-5pQj_p"
      },
      "execution_count": null,
      "outputs": []
    },
    {
      "cell_type": "code",
      "source": [
        "def linear_reg_cost(w,x,y):\n",
        "  m=len(y)\n",
        "  sum_squared_diff=0\n",
        "\n",
        "  for i in range(m):\n",
        "    y_predicted_i=w[0]+w[1]*x[i]\n",
        "    difference_i=(y_predicted_i-y[i])**2\n",
        "    sum_squared_diff+=difference_i\n",
        "\n",
        "  cost=sum_squared_diff/(2*m)\n",
        "  return cost\n"
      ],
      "metadata": {
        "id": "RssV974y6zpH"
      },
      "execution_count": 22,
      "outputs": []
    },
    {
      "cell_type": "code",
      "source": [
        "w= [1,2]\n",
        "x = [1, 2, 3, 4, 5,6]\n",
        "y = [2,3,4,5,6]\n",
        "\n",
        "print(linear_reg_cost(w,x,y))"
      ],
      "metadata": {
        "colab": {
          "base_uri": "https://localhost:8080/"
        },
        "id": "nxq-5b-QboBR",
        "outputId": "5991388d-7ff3-41ab-f7fd-2cf330d5104b"
      },
      "execution_count": 23,
      "outputs": [
        {
          "output_type": "stream",
          "name": "stdout",
          "text": [
            "5.5\n"
          ]
        }
      ]
    },
    {
      "cell_type": "markdown",
      "source": [
        "#### 3.2. Linear Regression Delta Cost Function\n",
        "> To calculate the vectorized gradient, **here is a hint**. Firstly compute the predicted values and the difference between the actual and predicted values. Next, transpose the input features ($x$) and perform matrix multiplication to calculate the weighted sum of feature errors. At the end, scale the result by the inverse of the number of data points ($m$), to obtain the average gradient."
      ],
      "metadata": {
        "id": "1e-g0SfcS9nC"
      }
    },
    {
      "cell_type": "code",
      "source": [
        "def linear_reg_delta_cost(w, x, y):\n",
        "  pass"
      ],
      "metadata": {
        "id": "4aJVp0VETDkv"
      },
      "execution_count": 24,
      "outputs": []
    },
    {
      "cell_type": "code",
      "source": [
        "def linear_reg_delta_cost(w, x, y):\n",
        "    m = len(y)\n",
        "    sum_elements = [0] * len(w)\n",
        "\n",
        "    for i in range(m):\n",
        "        y_predicted = sum(w[j] * x[i][j] for j in range(len(w)))\n",
        "\n",
        "        difference = y_predicted - y[i]\n",
        "\n",
        "        for j in range(len(w)):\n",
        "            sum_elements[j] += difference * x[i][j]\n",
        "\n",
        "    gradient = [sum_elements[j] / m for j in range(len(w))]\n",
        "    return gradient\n",
        "\n",
        "\n"
      ],
      "metadata": {
        "id": "dEmux_-AcjuT"
      },
      "execution_count": 50,
      "outputs": []
    },
    {
      "cell_type": "code",
      "source": [
        "w = [0.1, 0.2]\n",
        "x = [[1, 2], [1, 3], [1, 5]]\n",
        "y = [2.3, 4.5, 6.2]\n",
        "\n",
        "gradient = linear_reg_delta_cost(w, x, y)\n",
        "print(\"Our calculated gradient is:\", gradient)"
      ],
      "metadata": {
        "colab": {
          "base_uri": "https://localhost:8080/"
        },
        "id": "KRkBgHWJeWz3",
        "outputId": "4e6c591e-ea39-4b04-a657-727c508ae46e"
      },
      "execution_count": 51,
      "outputs": [
        {
          "output_type": "stream",
          "name": "stdout",
          "text": [
            "Our calculated gradient is: [-3.5666666666666664, -13.5]\n"
          ]
        }
      ]
    },
    {
      "cell_type": "markdown",
      "source": [
        "#### 3.3. Training the Linear Regression Model\n",
        "\n",
        "> As we mentioned above, the algorithm continuously adjusts the weights in a manner that moves them away from the direction where the cost function increases the most, aiming to approach the minimum of the cost function. This iterative process enables the algorithm to gradually refine the model's parameters, enhancing its ability to accurately capture the patterns in the data. The logic for this function stays the same as for the initial one; you will just need to adjust your code, to use the matrix methods, instead of writing the loops and iterating through elements. The function should return the optimized parameter $ w$ and the final cost."
      ],
      "metadata": {
        "id": "ljMSFYr8VMay"
      }
    },
    {
      "cell_type": "code",
      "source": [
        "def train_linear_reg(x,\n",
        "                     y,\n",
        "                     w,\n",
        "                     learning_rate = 0.0000004,\n",
        "                     num_iterations = 1000,\n",
        "                     logging = True):\n",
        "  pass"
      ],
      "metadata": {
        "id": "A2Ck2zSCVbP-"
      },
      "execution_count": 27,
      "outputs": []
    },
    {
      "cell_type": "code",
      "source": [
        "def train_linear_reg(x, y, w, learning_rate, num_iterations, logging=False):\n",
        "    m = len(x)\n",
        "\n",
        "\n",
        "    cost_history = []\n",
        "\n",
        "    for i in range(num_iterations):\n",
        "        y_pred = [w[0] + w[1] * xi for xi in x]\n",
        "        errors = [y_pred[j] - y[j] for j in range(m)]\n",
        "        grad_w0 = sum(errors) / m\n",
        "        grad_w1 = sum([errors[j] * x[j] for j in range(m)]) / m\n",
        "\n",
        "        w[0] -= learning_rate * grad_w0\n",
        "        w[1] -= learning_rate * grad_w1\n",
        "\n",
        "\n",
        "        cost = sum([(errors[j] ** 2) for j in range(m)]) / (2 * m)\n",
        "\n",
        "\n",
        "        cost_history.append(cost)\n",
        "        if logging and (i + 1) % 10 == 0:\n",
        "            print(\"Iteration {}, Cost: {}\".format(i + 1, cost))\n",
        "\n",
        "\n",
        "    return w, cost_history[-1]\n"
      ],
      "metadata": {
        "id": "Nx-pkUX3eVae"
      },
      "execution_count": 39,
      "outputs": []
    },
    {
      "cell_type": "code",
      "source": [
        "x_train = [1, 2, 3, 4, 5]\n",
        "y_train = [2, 4, 5, 4, 5]\n",
        "\n",
        "initial_w = [0, 0]\n",
        "learning_rate = 0.01\n",
        "num_iterations = 100\n",
        "\n",
        "optimized_w, final_cost = train_linear_reg(x_train, y_train, initial_w, learning_rate, num_iterations, logging=True)\n",
        "\n",
        "\n",
        "print(\"Optimized weights:\", optimized_w)\n",
        "print(\"Final cost:\", final_cost)\n"
      ],
      "metadata": {
        "colab": {
          "base_uri": "https://localhost:8080/"
        },
        "id": "Pz-SlAlgjDHn",
        "outputId": "79b09354-ec6d-4064-e55d-8b6455f4097a"
      },
      "execution_count": 41,
      "outputs": [
        {
          "output_type": "stream",
          "name": "stdout",
          "text": [
            "Iteration 10, Cost: 1.3880624884453763\n",
            "Iteration 20, Cost: 0.611637419309193\n",
            "Iteration 30, Cost: 0.5397728346866021\n",
            "Iteration 40, Cost: 0.5250032359733958\n",
            "Iteration 50, Cost: 0.515134065543037\n",
            "Iteration 60, Cost: 0.5059486199257444\n",
            "Iteration 70, Cost: 0.49709743451512345\n",
            "Iteration 80, Cost: 0.4885430552128612\n",
            "Iteration 90, Cost: 0.48027348430514943\n",
            "Iteration 100, Cost: 0.4722790745563475\n",
            "Optimized weights: [0.6051164658853391, 1.0417530517794173]\n",
            "Final cost: 0.4722790745563475\n"
          ]
        }
      ]
    },
    {
      "cell_type": "markdown",
      "source": [
        "3.4. Visualization & Plotting\n",
        "> Additionally, you can try to plot and visualize the regression line alongside the data points."
      ],
      "metadata": {
        "id": "jzWXtm5SVhEo"
      }
    },
    {
      "cell_type": "code",
      "source": [
        "import matplotlib.pyplot as plt"
      ],
      "metadata": {
        "id": "6rhyoHAjWaDs"
      },
      "execution_count": 37,
      "outputs": []
    },
    {
      "cell_type": "code",
      "source": [
        "plt.scatter(x_train, y_train, color='blue', label='Original data')\n",
        "\n",
        "predicted_y = [optimized_w[0] + optimized_w[1] * x for x in x_train]\n",
        "plt.plot(x_train, predicted_y, color='red', label='Regression line')\n",
        "\n",
        "\n",
        "plt.xlabel('X')\n",
        "plt.ylabel('Y')\n",
        "plt.title('Linear Regression')\n",
        "plt.legend()\n",
        "\n",
        "\n",
        "plt.show()"
      ],
      "metadata": {
        "colab": {
          "base_uri": "https://localhost:8080/",
          "height": 472
        },
        "id": "ydI2DFLXlAgQ",
        "outputId": "34ab1643-84b7-481a-c1da-af1ee9da0a15"
      },
      "execution_count": 44,
      "outputs": [
        {
          "output_type": "display_data",
          "data": {
            "text/plain": [
              "<Figure size 640x480 with 1 Axes>"
            ],
            "image/png": "[encoded data removed]"
          },
          "metadata": {}
        }
      ]
    }
  ]
}